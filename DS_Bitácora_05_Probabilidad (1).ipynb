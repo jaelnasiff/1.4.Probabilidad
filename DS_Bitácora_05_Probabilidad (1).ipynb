{
 "cells": [
  {
   "cell_type": "markdown",
   "metadata": {
    "id": "GEFRqVgwU4TH"
   },
   "source": [
    "# Probabilidad y Estadística\n",
    "\n",
    "El objetivo del siguiente notebook es afianzar algunos conceptos de Probabilidad y, de paso, empezar a ver cómo se hacen gráficos con Matplotlib, una nueva librería que veremos más en detalle en la próxima bitácora y encuentro. Por ahora, solamente tienen que instalarla y correr las celdas. ¡No te preocupes si no entiendes lo que hacen esas celdas! Lo importante es que prestes atención a sus resultados.\n",
    "\n",
    "## 1. Distribuciones de probabilidad\n",
    "\n",
    "El concepto de distribución de probabilidad es un concepto central en probabilidad y estadística y, por lo tanto, hay mucho para decir. Nos limitamos acá a los puntos más importantes.\n",
    "\n",
    "\n",
    "### 1.1 Distrubución Uniforme Discreta\n",
    "\n",
    "Comencemos por un ejemplo: un dado de seis caras. La probabilidad de que al tirar el dado *salga* una cara es $1/6$. Si graficamos la probabilidad para cada resultado posible de tirar un dado, obtendríamos un gráfico como el siguiente:"
   ]
  },
  {
   "cell_type": "code",
   "execution_count": 1,
   "metadata": {
    "id": "J-fHqWnzU4TR"
   },
   "outputs": [],
   "source": [
    "import numpy as np\n",
    "import matplotlib.pyplot as plt"
   ]
  },
  {
   "cell_type": "code",
   "execution_count": 2,
   "metadata": {
    "id": "VSbq4R-aU4Tt"
   },
   "outputs": [
    {
     "data": {
      "image/png": "[encoded data removed]",
      "text/plain": [
       "<Figure size 432x288 with 1 Axes>"
      ]
     },
     "metadata": {
      "needs_background": "light"
     },
     "output_type": "display_data"
    }
   ],
   "source": [
    "valores = np.arange(1,7)\n",
    "probas = np.zeros(6) + 1/6\n",
    "plt.bar(valores, probas) #Armo un grafico de barras asociando los valores del dado y su probabilidad de ocurrencia\n",
    "plt.title('Distribución de probabilidad uniforme: lanzamiento de un dado') #agego un titulo\n",
    "# plt.savefig('distribucion_dado.png', dpi = 400)\n",
    "plt.show() #lo muestro por pantalla ----> Comentario: si no lo coloco el show tmb se muestra pero es una buena practica incluirlo"
   ]
  },
  {
   "cell_type": "markdown",
   "metadata": {
    "id": "Hl-vXlaCU4T_"
   },
   "source": [
    "En este caso, decimos que la distribución de probabilidad es *uniforme discreta*, ya que le asigna la misma probabilidad a los seis valores que pueden salir al tirar el dado. Si el dado estuviera cargado, ya no sería uniforme.\n",
    "\n",
    "**Algunos detalles**:\n",
    "1. El resultado de tirar un dado es un ejemplo de una *variable aleatoria*.\n",
    "2. En el caso del dado, la variable aleatoria puede tomar valores *discretos* y *acotados* (limitados): 1, 2, 3, 4, 5 y 6\n",
    "3. Existen variables aleatorias donde los posibles valores que puede tomar son continuos y no acotados. Veremos la distribución más famosa de ellas a continuación."
   ]
  },
  {
   "cell_type": "markdown",
   "metadata": {
    "id": "mIXL9A1yU4UE"
   },
   "source": [
    "### 1.2 Distribución Normal o Gaussiana\n",
    "\n",
    "La distribución normal o gaussiana debe ser la distribución más famosa dentro de las distribuciones. Es una distribución de variable continua y aparece en una infinidad de ámbitos de la ciencia. Muchas variables asociadas a fenómenos naturales siguen una distribución gaussiana; un ejemplo típico es la estatura de las personas. La forma que tiene esta distribución está dada por la siguiente fórmula:\n",
    "\n",
    "$$f(x|\\mu, \\sigma^2)=\\frac{1}{\\sqrt{2 \\pi \\sigma^2}}e^{\\frac{-(x - \\mu)^2}{2\\sigma^2}}$$\n",
    "\n",
    "¡No te asustes si no la entiendes! Durante el encuentro, veremos más en detalle algunos aspectos de esta distribución. Pero es importante resaltar que tiene sólo dos parámetros: su valor medio $\\mu$ y su desviacíon estándar $\\sigma$. Estos valores son *teóricos*, es decir, son propios de la distribución de probabilidad. \n",
    "\n",
    "Recomendamos entrar en la página de Wikipedia de la [Distribución Normal](https://es.wikipedia.org/wiki/Distribuci%C3%B3n_normal) y prestar atención al primer gráfico - dónde podrán ver la forma teórica de la distribución - y a la sección \"Propiedades\".\n",
    "\n",
    "\n",
    "**Distribución Normal en NumPy**\n",
    "\n",
    "Como mencionamos en el encuentro anterior, NumPy nos provee de herramientas para generar valores aleatorios de distribuciones. A continuación generamos, usando `np.random.normal()`, muestras de dos distribuciones normales, con el mismo valor medio pero distinta desviación estándar. **Consultar** la ayuda de la función para entender bien qué hace."
   ]
  },
  {
   "cell_type": "code",
   "execution_count": 3,
   "metadata": {
    "id": "mnQ6ZwhAU4UJ",
    "scrolled": true
   },
   "outputs": [
    {
     "name": "stdout",
     "output_type": "stream",
     "text": [
      "[ 10.08277158  -4.97135722   3.33171217   0.04166023   0.48688438\n",
      "   4.54178622   0.75254957   5.09337628   7.48890919   6.1308712\n",
      "   7.62859048   7.3146659    2.50601308   1.8054225    6.34753476\n",
      "   2.02564796  10.10371322  -2.1381541    5.20597839   2.42960407\n",
      "  -3.20962723  -1.50670927   0.52818316   4.08976802   1.78633653\n",
      "  -7.59277654  -0.12140827   5.80423438   8.30374778   8.40926284\n",
      "  -3.60103639  14.85512248   2.59683758   6.01086013   1.79166653\n",
      "   7.75496034  -0.55292481  -2.44480102  15.31689089   3.56303901\n",
      "   6.78394932  -5.14259989  -1.17185633   0.50886247  -5.82825042\n",
      "   6.46497094  -3.34677895   2.15487192  -5.1501594    7.76589063\n",
      "   5.10955624  -7.39007781  -5.09425852   4.97701286   3.49078672\n",
      "   8.14198101   8.14465882   2.62438794   7.73380184  -2.65510763\n",
      "  -6.73422556  10.08205184   3.19572277  -4.05173459   2.07374009\n",
      "  -1.62920681   5.18409388   8.80372736  -1.3046295    3.27115402\n",
      "   2.59323132   9.85090591  -0.25554862   0.85785941   2.91441874\n",
      "   0.84419482   3.78054491  -0.55875099  10.13449447  11.03257346\n",
      "   6.49397429   1.22862575   5.76924221  -1.72972455   2.6104475\n",
      "  -0.69722222   6.11091089  -3.5947905   -4.90699546   7.61612159\n",
      "   3.47602925  -0.73057601   2.27129087   6.55421339   8.86388531\n",
      "  -4.31483889  10.5585856   -4.21461899  -5.2593552   -2.47763499\n",
      "   5.78837817  -5.32522689   7.90725731   4.17972432   3.5818435\n",
      "   8.39086141  12.44843502   0.2188061   -1.43671923   1.55246825\n",
      "   9.31535578   0.06493572  -1.85611806  -8.44664369   6.1086938\n",
      "  -0.56301117  -4.83110622   5.0985694   -0.68208346  11.91521381\n",
      "   0.23268754  10.94942239   6.75906099  -5.65887304   6.96965715\n",
      "   8.46376281   2.88662928   0.4716952    9.96856501   3.29409184\n",
      "   2.20982682  -4.0031391   -1.68582533   0.74980144   1.81610977\n",
      "  -0.84702495   1.08571914   6.51882568   1.62982162   2.36228186\n",
      "   0.16740749   2.26628988   1.66703804   0.84551169   1.41450757\n",
      "  -4.23987115  -2.62087701  -7.69077231  -1.36381216   7.80553945\n",
      "   2.67784701   7.28207139  -0.78655971  -2.59319821   5.38213537\n",
      "  -3.82899266  -6.96870532   7.88336042   2.64187045   5.99667847\n",
      "  -1.9197187    9.79131711   0.97001238  11.09599983  -5.33621269\n",
      "   5.26294381   3.69747224   0.0876842    7.18977803   3.06814191\n",
      "  -0.05473259   3.29613922   6.20650427  -0.5131957   -0.78536621\n",
      "   1.7306901   -3.19931412   5.44831893   1.72878204   3.60437993\n",
      "   3.00543947   1.29612613   9.13301292   1.74774678   1.28250963\n",
      "   1.19652432   2.27481117  -3.4080936    2.63847609   8.92265497\n",
      "   2.93111058  -7.27013942  -3.97191691  -3.51198988  -4.68332983\n",
      "   8.09501858  -2.60269007   6.06161097  -4.41231783  -1.82436547\n",
      "   1.18488463  11.50406764   2.5084314    3.11177355   6.11950116\n",
      " -11.40251764  -2.63132074  -3.00196146   0.86312211   3.62291399\n",
      "  16.44492946  -4.45710405   7.00293547  -1.87596911   6.03482424\n",
      "  -3.24167149  11.01150838   5.28165355  11.04027452  -9.51067491\n",
      "  -7.23803769  -0.90230701   2.30552284  -7.05763756  -1.94774287\n",
      "  -3.73923179   5.35891724   6.72419753   4.23689802  -5.99205294\n",
      "   7.67209668  -0.49937544  12.363059     2.6119595    1.54954776\n",
      "   2.46155397  -9.47228735   1.20436616   1.48505641   3.93165433\n",
      "   5.39056421   3.29625145  -1.9019485    0.09309608  -6.83093123\n",
      "  12.58534413   5.78487387  -8.492562    -6.45055273   1.89532411\n",
      "   2.46832886   7.05393436  -1.88699065   1.61801846   1.19576201\n",
      "  -4.45762882  -1.04516929  -1.65724817   1.61736658   4.20583544\n",
      "   3.46214906  11.37466012   1.92578513  -4.56172972   1.68970453\n",
      "   7.67326604   1.48258351  -5.51934188  -1.0771828    7.71689161\n",
      "  -2.1908517    1.58471724  -1.04728085  15.66579071   5.42626631\n",
      "  -1.77630471   1.39875226   1.75934861   3.88187367   8.45087297\n",
      "   8.11531927  10.32183258  -0.21037205   5.03391526  -2.40798621\n",
      "  -1.31259278   9.44151765   2.23375348  -1.77808279  -1.50820878\n",
      "   8.74018608   2.66055888   1.82840611  -3.94706921   6.29409544\n",
      "  -2.67007727   1.0233584    6.03004897   6.95194468   6.76405645\n",
      "   4.59613267   7.40669279  13.05846041   8.94146129   8.26903198\n",
      "  -7.33459676   3.29173432  -2.32383532  16.69624643  -1.33592545\n",
      "   4.5516983   -3.20993618  -1.50032165  -0.21234288   1.16658726\n",
      "   9.06208137   7.83714715   5.64227962   1.21028648   0.54410536\n",
      "   3.29095502   3.79728956   5.63187553   4.34867409  -5.40188338\n",
      "  -0.60510606  11.78024012   3.00796287   0.848447     3.93201594\n",
      "  12.44875697   9.09502936  13.46227553   3.9464185    9.36084137\n",
      "  -0.92440978   0.94997242  -1.60887691   1.65718308  -1.08805858\n",
      "   2.10455151  -3.64785804   7.27959803   2.10760552   3.43250627\n",
      " -10.99423191   3.72515106   1.37913528   0.69291599   2.81522555\n",
      "   4.98976688   6.49609107   3.10319197  -3.67834297  -2.64346754\n",
      "  -4.23877346   2.13343735  -0.7485022  -14.01156999   2.92211682\n",
      "   7.11639689  -6.57854333   3.12823442   2.52260822   2.88810111\n",
      "  -4.62328419   9.09371248   5.84426674  -0.06391183  -7.30049101\n",
      "  -2.25019588   3.44558773  -1.02518146  14.2657627   -2.76953209\n",
      "   7.92557551   4.8372009    2.40313997   6.86733858   5.16747129\n",
      "   3.79550651  -4.49306272   0.81001301   5.02297571  11.48282925\n",
      "   6.93188259  -1.4303383   14.71233403  10.59574624 -11.1689368\n",
      "  -2.56549567   4.36096487  -8.74685707  -1.01347638  -6.42088955\n",
      "   3.80771507  10.31068138   3.30856187   3.65784199   6.235196  ] [ 1.00273257  1.29114011  4.03137218  4.3213608   2.93319681  3.20623121\n",
      "  2.23674708  5.5410867   1.57841889  5.46114569  1.69123345  0.76836756\n",
      "  2.8975986   2.68751905  0.65348573 -0.09057827  0.83719125  1.52252458\n",
      "  5.56456532  0.14412051  0.23167888  2.31508895  3.67990182  2.48023424\n",
      "  4.23605574  2.25452047  3.06809598  4.83964906  3.87161083  0.55390017\n",
      "  0.47410334 -1.82222411 -0.35626323  2.99956146  5.5007615   3.37901564\n",
      "  0.05415958  3.75620425  3.70635973  0.6191542   0.22995932  4.40818055\n",
      " -1.25517883 -1.12894595  2.88579433 -1.12147436  2.3378421   3.99681846\n",
      "  0.98988732  2.46668254  1.96354315  2.10498851  1.09929469  3.26798411\n",
      "  1.63211177 -0.75580662  4.81200098  1.84518863  0.66088458  1.2026467\n",
      "  0.38783553  3.82332222  0.92784087 -0.04100573  3.47168719  4.00013522\n",
      "  3.17252334 -0.80060175  2.9305269  -1.35364491  4.03732209  0.9162829\n",
      "  0.42674982 -0.24964924 -0.42588869  3.51960166  0.95118701  1.63014606\n",
      " -1.66494865  1.96462873  1.63272584  1.94854954  3.06534234  1.53869502\n",
      "  3.73880226  5.89776529  4.78039597  2.68834642  2.04211277 -3.66201569\n",
      "  2.04078357  1.76689169 -0.84247795  1.86956326  4.27682327  3.4365379\n",
      "  3.52129016  2.45123136 -2.32745599  5.98248628  3.28510355  0.46063369\n",
      "  4.19377786  4.85822368  2.42099334 -0.03468145  5.86441384  1.09640412\n",
      "  2.80704014  1.86750519  2.3258752   2.69742677  2.6912419   2.09976746\n",
      "  1.06989567  0.90325102  2.30143712  0.77356943  3.43029725  0.35873238\n",
      " -1.93044529  1.32412041 -0.12414278  1.24189645  2.30713722  3.66611543\n",
      "  3.66218549  6.16479623  1.08059661  1.41004953  1.75453156  0.49478821\n",
      "  1.67935047  1.88716264  3.57433179 -0.28634692  0.09157925  1.48537056\n",
      "  4.11771798  1.57166713  5.33192715  2.24157433  0.80115057 -1.61508968\n",
      "  2.90858261  2.91382462  1.94275289  0.13276139  0.53076882  1.86073531\n",
      "  1.84719453  0.73212093  6.7950724   3.53110682  7.40937932 -3.17735768\n",
      "  2.63275851  1.97732884  1.70526862  0.03979678  4.50653676  0.57277883\n",
      " -1.92919565  4.83186531  5.12855494  2.09385418  0.28608198  0.11593915\n",
      "  2.88902014  4.8446312  -0.06900127  1.24088119  1.77369782  1.80349961\n",
      "  3.49339238  1.69632019  0.53007298  2.46955262  1.82034375  2.07400373\n",
      "  4.11052828  3.27552952  2.05024424  1.8483011   2.4022295   2.65113332\n",
      " -1.45308959  4.5696102   3.00876513  1.95157118  1.63919554  4.09540676\n",
      "  2.17755139  6.58405669  2.85362209  2.74999586 -0.41449102  0.40415503\n",
      "  1.7974697  -0.45619076  2.35748039  2.43331976  7.10785766  2.15811354\n",
      "  0.65074242  4.35634835  0.89479826  2.02520359  1.32703356  1.86380847\n",
      "  4.18670841  0.30293163  5.91634346  1.95652718  0.42093328  3.62612032\n",
      "  1.46825233  4.5314799   1.90400796  1.62311559  3.52619006  0.44046537\n",
      " -1.69974272  0.30468674 -2.10912203  0.0410249   3.39294171  2.07229765\n",
      "  0.97486112  8.0477522   2.00050449  2.21705399  3.06809428  0.39689276\n",
      "  3.432474    3.01785231  1.27579658  2.18951793  0.78725708  3.53680972\n",
      "  5.14361338  3.70285083  3.72541443 -0.76806695  1.88705244  2.44900688\n",
      "  3.12880346  1.09423912  5.86467964  0.96757566 -0.3401691   5.30526492\n",
      " -0.80201728  3.20741581  4.3161803   1.89245148  4.09901878  0.78339153\n",
      "  2.66360712  3.10153647  1.34682742  1.89644934  3.10317555  1.49057481\n",
      "  0.376369    4.92255158 -3.8219186   0.87831078  1.80738713 -0.25302007\n",
      "  2.42466802  3.87168497  3.02481936  2.60833896  5.57040075  2.15049885\n",
      "  0.38990984 -0.73626101  4.27481021  5.39040798  3.5497768   2.23625235\n",
      "  0.02253396  0.29608462  0.66307091  1.82279492  1.46708448  1.3121635\n",
      "  5.11925389  4.18254528  1.75988048  2.74804232  5.41866577  0.96204411\n",
      " -0.17855051  2.19980782  4.14066723  0.28395793  5.52350528  4.04120542\n",
      "  2.42700138  0.41454591  0.68585793  0.16340557  6.81741818  5.26418341\n",
      " -0.55227078  0.75781974  3.09342256  4.08384622  2.76743358  2.81894589\n",
      "  3.90054651  2.93298684 -0.68024865  1.93450413 -1.20575403  1.48057607\n",
      "  4.62573172  3.08056904  0.50146411  7.36358144  1.4414465   3.22118345\n",
      "  1.66447253  3.4266577   3.51838568  4.323457   -0.07666154  5.63403087\n",
      "  3.51473137  2.64368344  3.26486544  1.81256864  0.27345964  1.92331794\n",
      "  3.06740171  6.41164015  1.97395815  3.19623472  4.02386063 -0.35533235\n",
      "  5.17474724  2.05372865  3.326183   -1.93657216  2.95183537 -1.16502507\n",
      "  2.00887714  6.21606023  1.10785212  4.72797264  2.20473384  1.42541873\n",
      "  1.65818243  7.7555577   2.93920077  3.10680111  2.66707749  2.41855466\n",
      "  2.8495705  -0.05945124  1.87185149  1.99588676 -0.15492089  0.93196663\n",
      "  6.3837665   3.47838168  7.64178267  0.55640105  2.71487122  2.81943425\n",
      " -1.35920852  1.84868061  3.69142022 -0.7200905  -0.06432833  1.51619595\n",
      "  0.38799654 -2.94697404 -0.79353231  1.62442045  1.68234498  3.87367387\n",
      "  2.48387231  2.80300911  1.99703261  0.01983578  3.54109484  1.79308318\n",
      "  1.98827502  2.0034815   1.79534007  3.98415352  0.21476382  0.36731171\n",
      "  4.61943     1.25169805  2.84573778  5.14838542]\n"
     ]
    }
   ],
   "source": [
    "mu = 2.0 #defino el promedio\n",
    "sigma_1 = 5.0 #defino el desvio estandar a traves del objeto sigma_1\n",
    "sigma_2 = 2.0 #defino el desvio estandar a traves del objeto sigma_2\n",
    "muestras_1 = np.random.normal(loc = mu, scale = sigma_1, size = 400)\n",
    "muestras_2 = np.random.normal(loc = mu, scale = sigma_2, size = 400)\n",
    "print(muestras_1, muestras_2)\n",
    "\n",
    "#np.random.seed(123) ---> antes de ejecutar el valor random. Siempre q voy a hacer algo aleatorio puedo definir una semilla\n",
    "#opcionalmente para que lo valores no cambien\n",
    "\n",
    "## https://numpy.org/doc/stable/reference/random/generated/numpy.random.normal.html"
   ]
  },
  {
   "cell_type": "markdown",
   "metadata": {
    "id": "OHFxZhG0U4Ub"
   },
   "source": [
    "Notar que son dos \"tiras\" de números, bastante largas y que a simple vista no nos dicen mucho. Mejor, podemos graficar su histograma. Veremos bien qué es un histograma en la próxima bitácora. Por ahora, basta saber que es una forma de visualizar cómo está distribuida una tira de números. Lo que hace es tomar un número determinado de intervalos (`bins = 20`) y contar cuántas muestras caen en cada intervalo."
   ]
  },
  {
   "cell_type": "code",
   "execution_count": 4,
   "metadata": {
    "id": "4nu_9GbwU4Uf"
   },
   "outputs": [
    {
     "data": {
      "image/png": "[encoded data removed]",
      "text/plain": [
       "<Figure size 432x288 with 1 Axes>"
      ]
     },
     "metadata": {
      "needs_background": "light"
     },
     "output_type": "display_data"
    }
   ],
   "source": [
    "plt.hist(muestras_1, bins = 20, alpha = 0.5, label = 'Histrograma Muestra 1')\n",
    "plt.hist(muestras_2, bins = 20, alpha = 0.5, label = 'Histrograma Muestra 2')\n",
    "plt.legend() #habilito que se muestren las leyendas\n",
    "plt.grid() #genera la cuadricula que se muestra por detras del grafico. este parametro es netamente visualizacion\n",
    "plt.show() #Muestro el grafico"
   ]
  },
  {
   "cell_type": "markdown",
   "metadata": {
    "id": "_Ez12LcZU4Uu"
   },
   "source": [
    "**Ejercicio:** Volver a \"generar\" las muestas y hacer sus histogramas. ¿Cambió?¿Por qué? Googlear que es una *semilla* (`seed`) en NumPy e implementar. También, cambiar la cantidad de muestras, modificando el argumento `size`. \n",
    "\n",
    "### 1.3 Relación entre Probabilidad y Estadística\n",
    "\n",
    "**Promedio y desviación estándar en una distribución Normal**\n",
    "\n",
    "En una distribución normal, el promedio de las muestras obtenidas *tiende* al valor medio $\\mu$ de la distribución, y la desviación estándar *tiende* a la desviacíon estándar $\\sigma$ de la distribución. Notar, entonces, que existen valores calculados (promedio, desviación estándar) y valores teóricos ($\\mu$ y $\\sigma$). Confundirlos entre sí es un error común.\n",
    "\n",
    "Veamos un ejemplo. Nuevamente, obtenemos muestras de una distribución normal:"
   ]
  },
  {
   "cell_type": "code",
   "execution_count": 5,
   "metadata": {
    "id": "55UHxgsWU4Uy"
   },
   "outputs": [
    {
     "name": "stdout",
     "output_type": "stream",
     "text": [
      "[13.64763519  8.51517005  6.1656871  11.28257661  8.19862719  7.36174674\n",
      "  3.87953521  5.04897699 14.11206123  9.06786963 13.42143371  9.54624401\n",
      "  8.41235186  6.43908041  6.28161561  9.90313114  7.45171896  4.43029987\n",
      "  6.97860881  2.58616163  9.42149089  6.00097266  9.43003648  6.7318924\n",
      " 10.54039162 11.27578798  3.46665691  9.62474244 10.93450445  8.21592945\n",
      "  5.5235626   6.43000799  9.57179265  5.02701346 13.95842711 12.96670726\n",
      "  7.14969464 12.35613134 13.96111061 13.96821549  7.90978647  5.67955091\n",
      " 11.87687413 10.88768187 14.84326864  5.46574014  4.91496647  8.45273034\n",
      "  6.85654937  9.79594139  9.87143559  7.27250008 12.10090366  4.63057143\n",
      "  8.41983779 10.74319466  4.64292465  7.28304247 15.16394432  8.22065954\n",
      "  8.47428651  2.81011249 10.37264767 10.80583215  4.12514888  7.92300591\n",
      "  3.99323982  3.93630077  5.69267706  7.76368188  8.69607314  5.12276335\n",
      "  4.77206873 12.71744161  3.57351391  8.16099168  8.28962009  8.07347146\n",
      "  8.05178664 10.75539849  8.87284309 13.43395296  9.73210626  5.09256927\n",
      "  9.1750675   3.18293771 10.96776779 10.45464172  7.24917697  8.19378441\n",
      " 14.14025891  4.40175675  5.94061292 15.49619869  3.27758922 11.79919938\n",
      " 12.7336949   7.23079032  8.86597563  9.08649504]\n"
     ]
    }
   ],
   "source": [
    "mu = 8.5 #defino promedio teorico para compararlo con el real\n",
    "sigma = 3.0 #defino el desvio estandar teorico para compararlo con el real\n",
    "muestras = np.random.normal(loc = mu, scale = sigma, size = 100) #genero una muestra de tipo normal del tamaño de 100 obs\n",
    "\n",
    "#veamos hasta aca q obtuvimos\n",
    "print(muestras)"
   ]
  },
  {
   "cell_type": "markdown",
   "metadata": {
    "id": "IrLpnkqqU4U9"
   },
   "source": [
    "Y calculamos su promedio y desviación estándar, y comparamos con $\\mu$ y $\\sigma$."
   ]
  },
  {
   "cell_type": "code",
   "execution_count": 6,
   "metadata": {
    "id": "k1JKKz5eU4VC"
   },
   "outputs": [
    {
     "name": "stdout",
     "output_type": "stream",
     "text": [
      "Valor medio teorico: 8.5 . Valor medio calculado: 8.47755185981955\n",
      "Desviacion estandar teorica: 3.0 . Desviacion estandar calculada: 3.1911299077586417\n"
     ]
    }
   ],
   "source": [
    "print('Valor medio teorico:', mu, '. Valor medio calculado:', muestras.mean())\n",
    "print('Desviacion estandar teorica:', sigma, '. Desviacion estandar calculada:', muestras.std())\n",
    "\n",
    "### Aclaracion:\n",
    "# El valor teorico es el valor q yo defini inicialmente tanto para mu como para sigma y el\n",
    "#valor medio calculado es el real al aplicarse la formula sobre el conjunto de datos de la muestra."
   ]
  },
  {
   "cell_type": "markdown",
   "metadata": {
    "id": "YqQs6D_YU4VQ"
   },
   "source": [
    "Comparemos el histograma de las muestras y la distribución teórica, que graficaremos haciendo uso de la librería `SciPy`:"
   ]
  },
  {
   "cell_type": "code",
   "execution_count": 7,
   "metadata": {
    "id": "bf31AbLMU4VU"
   },
   "outputs": [
    {
     "data": {
      "image/png": "[encoded data removed]",
      "text/plain": [
       "<Figure size 432x288 with 1 Axes>"
      ]
     },
     "metadata": {
      "needs_background": "light"
     },
     "output_type": "display_data"
    }
   ],
   "source": [
    "from scipy.stats import norm #Importamos las librerias\n",
    "\n",
    "plt.hist(muestras, bins=20, density=True, alpha=0.6, color='g')#Genero el Histograma de densidad \n",
    "#y le asigno un color green -> 'g' podria usar 'r' para q se vea rojoxmin, xmax = plt.xlim()\n",
    "\n",
    "xmin, xmax = plt.xlim() #Establezco el límite del gráfico en base a los valores de la muestra\n",
    "x = np.linspace(xmin, xmax, 100) #Hago 100 divisiones sobre el grafico, llendo desde el minimo al maximo valor definido\n",
    "p = norm.pdf(x, mu, sigma) #Genero 100 nros aleatorios con el prom y el desvio estándar definido previamente de tipo normal\n",
    "plt.plot(x, p, 'k', linewidth=2, label = 'Distribución Teórica') #Linewidth es el ancho de línea normal\n",
    "#El comando plt.plot, me genera la linea de la distribución normal y %.2f es para mostrar\n",
    "\n",
    "title = \"Muestras obtenidas de una distribución normal con mu = %.2f,  sigma = %.2f\" % (mu, sigma)\n",
    "#Titulo del grafico\n",
    "plt.title(title)#Habilito el titulo\n",
    "plt.legend() #Muestro la leyenda\n",
    "plt.show() #Comando para mostrar el grafico por pantalla\n",
    "\n",
    "##Comentarios: En la seccion plt.plot el parametro ¨k¨ es para q la linea se pinte de color negro, por ejemplo el color\n",
    "#amarillo se representa con la letra ¨y¨\n",
    "\n",
    "## Aclaracion: https://www.spicy.org/docs.html ---->libreria cientifica-estadistica\n"
   ]
  },
  {
   "cell_type": "markdown",
   "metadata": {
    "id": "RTOjCCEQU4Vi"
   },
   "source": [
    "**Nota:** si estás atento/a a la escala en el eje *y*, notarás que es distinta a la escala de los histogramas anteriores. Esto se debe a que, en un histograma, además de graficar la cantidad de muestras que entran en cada intervalo, podemos también graficar la **proporción** de muestras que entran en cada intervalo.\n",
    "\n",
    "**Para pensar y probar:** \n",
    "1. ¿Por qué no coinciden $\\mu$ y $\\sigma$ con los valores calculados?¿Qué podemos hacer para que se parezcan cada vez más?¿Y qué ocurre en ese caso con el histograma y la distribución teórica?\n",
    "2. Con respecto al ejercicio que acabamos de hacer, ¿cuáles son los *parámetros* asociados al mundo de las probabilidades y cuáles son los *valores estadísticos* asociados al mundo de la estadística?\n",
    "\n",
    "\n",
    "### Ejercitación\n",
    " \n",
    "Los siguientes ejercicios pueden parecer muy difíciles, pero te aseguramos que no lo son tanto. ¡Lo importante es que los intentes!\n",
    "\n",
    "**Ejercicio 1 - Challenge:** Muchos juegos de mesa requieren tirar dados y sumar sus resultados. Por ejemplo, el [Catán](https://es.wikipedia.org/wiki/Los_Colonos_de_Cat%C3%A1n). Es evidente que, mientras en un dado la probabilidad de que salga cada cara es la misma, en esta variable aleatoria todos los resultados no son igual de probables (¿Cuáles son los posibles resultados?). Entonces, para mejorar tu estrategia en estos juegos, es útil saber cuál es la probabilidad asociada a cada resultado. Para ello, debes calcular su distribución de probabilidad. Entonces, \n",
    "\n",
    "Obtener la distribución de la variable aleatoria *suma del resultado de tirar dos dados*. Para ello puedes intentar alguna o ambas de las siguientes opciones:\n",
    "1. **Obtener la distribución teórica:** para ello, basta contar los casos *a mano* con lápiz y papel. Por ejemplo:\n",
    "    1. Uno (1) es un resultado imposible\n",
    "    2. Dos (2) solamente puede ser obtenida con ambos dados en 1, 1 + 1\n",
    "    3. Tres (3) tiene dos opciones, 2 + 1 y 1 + 2\n",
    "    4. Cuatro (4) tiene tres opciones: 3 + 1, 2 + 2, 1 + 3\n",
    "    \n",
    "    y así para el resto de los posibles resultados. Completa la lista hasta el 12 y cuenta cuántas combinaciones existen para cada resultado. ¿Cuántos combinaciones debe haber en total, teniendo en cuenta que cada dado tiene seis caras? Al final, debes llevarlos a porcentaje. Por ejemplo, si en total son 100 posibles combinaciones, y el 12 tiene 10 posibles combinaciones, su probabilidad es 10/100 = 0.1\n",
    "    \n",
    "2. **Simular y obtener una distribución aproximada:** otra opción es simular esta situación. Viste en el notebook de la bitácora anterior cómo simular un dado. Ahora simula dos dados y obtiene la suma de sus resultados.\n",
    "\n",
    "¿Te animas a comparar ambos métodos?"
   ]
  },
  {
   "cell_type": "code",
   "execution_count": null,
   "metadata": {},
   "outputs": [],
   "source": [
    "1. Uno (1) es un resultado imposible\n",
    "    2. Dos (2) solamente puede ser obtenida con ambos dados en 1 + 1\n",
    "    3. Tres (3) tiene 2 opciones,                              1 + 2, 2 + 1 \n",
    "    4. Cuatro (4) tiene 3 opciones:                            1 + 3, 2 + 2, 3 + 1\n",
    "    5. Cinco (5) tiene 4 opciones:                             1 + 4, 2 + 3, 3 + 2, 4 + 1\n",
    "    6. Seis (6) tiene 5 opciones:                              1 + 5, 2 + 4, 3 + 3, 4 + 2, 5 + 1\n",
    "    7. Siete (7) tiene 6 opciones:                             1 + 6, 2 + 5, 3 + 4, 4 + 3, 5 + 2, 6 + 1\n",
    "    8. Ocho (8) tiene 5 opciones:                              2 + 6, 3 + 5, 4 + 4, 5 + 3, 6 + 2\n",
    "    9. Nueve (9) tiene 4 opciones:                             3 + 6, 4 + 5, 6 + 3, 5 + 4\n",
    "    10. Diez (10) tiene 3 opciones:                            4 + 6, 5 + 5, 6 + 4\n",
    "    11. Once (11) tiene 2 opciones:                            5 + 6, 6 + 5\n",
    "    12. Doce (12) tiene 1 opcion:                              6 + 6\n",
    "        \n",
    "### Combinaciones = 36"
   ]
  },
  {
   "cell_type": "code",
   "execution_count": 9,
   "metadata": {
    "id": "327V3n7oU4Vm"
   },
   "outputs": [
    {
     "name": "stdout",
     "output_type": "stream",
     "text": [
      "2  :  [(1, 1)]\n",
      "3  :  [(1, 2), (2, 1)]\n",
      "4  :  [(1, 3), (2, 2), (3, 1)]\n",
      "5  :  [(1, 4), (2, 3), (3, 2), (4, 1)]\n",
      "6  :  [(1, 5), (2, 4), (3, 3), (4, 2), (5, 1)]\n",
      "7  :  [(1, 6), (2, 5), (3, 4), (4, 3), (5, 2), (6, 1)]\n",
      "8  :  [(2, 6), (3, 5), (4, 4), (5, 3), (6, 2)]\n",
      "9  :  [(3, 6), (4, 5), (5, 4), (6, 3)]\n",
      "10  :  [(4, 6), (5, 5), (6, 4)]\n",
      "11  :  [(5, 6), (6, 5)]\n",
      "12  :  [(6, 6)]\n"
     ]
    }
   ],
   "source": [
    "# COMPLETAR: UNA LINEA DE CODIGO \n",
    "dado1= [1,2,3,4,5,6]\n",
    "dado2= [1,2,3,4,5,6]\n",
    "posibles_combinaciones= {}\n",
    "for n1 in dado1:\n",
    "    for n2 in dado2:\n",
    "        suma= n1 + n2\n",
    "        comb= (n1, n2)\n",
    "        if suma in posibles_combinaciones:\n",
    "            posibles_combinaciones[suma].append(comb)\n",
    "        else:\n",
    "            posibles_combinaciones[suma]= [comb]\n",
    "for suma in posibles_combinaciones:\n",
    "    print(suma, ' : ',posibles_combinaciones[suma])\n"
   ]
  },
  {
   "cell_type": "code",
   "execution_count": 10,
   "metadata": {},
   "outputs": [
    {
     "name": "stdout",
     "output_type": "stream",
     "text": [
      "[1, 2, 3, 4, 5, 6, 5, 4, 3, 2, 1]\n",
      "36\n",
      "[0.02777778 0.05555556 0.08333333 0.11111111 0.13888889 0.16666667\n",
      " 0.13888889 0.11111111 0.08333333 0.05555556 0.02777778]\n"
     ]
    }
   ],
   "source": [
    "frecuencias = []\n",
    "for suma in posibles_combinaciones:\n",
    "    frecuencias.append(len(posibles_combinaciones[suma]))\n",
    "print(frecuencias)\n",
    "\n",
    "total = np.array(frecuencias).sum()\n",
    "print(total)\n",
    "probabilidad = np.array(frecuencias)/total\n",
    "print(probabilidad)"
   ]
  },
  {
   "cell_type": "code",
   "execution_count": 11,
   "metadata": {},
   "outputs": [
    {
     "name": "stdout",
     "output_type": "stream",
     "text": [
      "12 : [0.02777778 0.05555556 0.08333333 0.11111111 0.13888889 0.16666667\n",
      " 0.13888889 0.11111111 0.08333333 0.05555556 0.02777778]\n"
     ]
    }
   ],
   "source": [
    "print(suma, ':', probabilidad)\n"
   ]
  },
  {
   "cell_type": "code",
   "execution_count": 12,
   "metadata": {},
   "outputs": [
    {
     "data": {
      "image/png": "[encoded data removed]",
      "text/plain": [
       "<Figure size 432x288 with 1 Axes>"
      ]
     },
     "metadata": {
      "needs_background": "light"
     },
     "output_type": "display_data"
    }
   ],
   "source": [
    "muestras_dado_1 = np.random.randint(1,7, size = 100000)\n",
    "muestras_dado_1\n",
    "muestras_dado_2 = np.random.randint(1,7, size = 100000)\n",
    "muestras_dado_2\n",
    "\n",
    "suma = (muestras_dado_1 + muestras_dado_2)\n",
    "suma\n",
    "plt.hist(suma,bins = np.arange(1.5,13.5,1), density=True, rwidth = 0.8,)\n",
    "plt.show()"
   ]
  },
  {
   "cell_type": "code",
   "execution_count": 16,
   "metadata": {},
   "outputs": [
    {
     "name": "stdout",
     "output_type": "stream",
     "text": [
      "[ 4  5  8 ...  5 10 10]\n"
     ]
    }
   ],
   "source": [
    "muestras_dado_1 = np.random.randint(1,7, size = 1000)\n",
    "muestras_dado_2 = np.random.randint(1,7, size = 1000)\n",
    "Suma = []\n",
    "i = 0\n",
    "for muestra in muestras_dado_1:\n",
    "    Suma.append((muestras_dado_1[i]+muestras_dado_2[i]))\n",
    "    i+=1\n",
    "\n",
    "print(suma)"
   ]
  },
  {
   "cell_type": "code",
   "execution_count": 17,
   "metadata": {},
   "outputs": [],
   "source": [
    "resultados = np.arange(2,13) #Simula la tirado de los dados (empieza con 2 xq 1+1=2 y 6+6=12)\n",
    "valores_teoricos = np.array([1,2,3,4,5,6,5,4,3,2,1])/36 #defino un valor para comparar posteriormentes (el 36 es la suma de todas las posibilidades)"
   ]
  },
  {
   "cell_type": "code",
   "execution_count": 18,
   "metadata": {},
   "outputs": [
    {
     "data": {
      "image/png": "[encoded data removed]",
      "text/plain": [
       "<Figure size 432x288 with 1 Axes>"
      ]
     },
     "metadata": {
      "needs_background": "light"
     },
     "output_type": "display_data"
    }
   ],
   "source": [
    "plt.hist(suma, bins= np.arange(1.5,13.5,1), density=True, rwidth = 0.8, alpha = 0.75)\n",
    "plt.scatter(resultados, valores_teoricos, marker = '+', c= 'red', label = 'valores teoricos')\n",
    "plt.legend()\n",
    "plt.show()\n"
   ]
  },
  {
   "cell_type": "markdown",
   "metadata": {
    "id": "EkNiPekCU4V0"
   },
   "source": [
    "**Ejercicio 2:** Obtiene, simulando, la distribución de la variable aleatoria *máximo valor obtenido al tirar dos dados.* Por ejemplo, si obtenemos 2 y 5, el resultado es 5. Nuevamente, si lo deseas, también puedes contar casos y obtener la distribución teórica."
   ]
  },
  {
   "cell_type": "code",
   "execution_count": 19,
   "metadata": {
    "id": "tzyvWre3U4V4"
   },
   "outputs": [],
   "source": [
    "# COMPLETAR: UNA LINEA DE CODIGO \n",
    "dado1= np.random.randint(1,7, size = 100000)\n",
    "dado2= np.random.randint(1,7, size = 100000)"
   ]
  },
  {
   "cell_type": "code",
   "execution_count": 20,
   "metadata": {},
   "outputs": [
    {
     "name": "stdout",
     "output_type": "stream",
     "text": [
      "(2, 100000)\n",
      "[[6 5 4 ... 1 3 3]\n",
      " [1 2 6 ... 2 3 1]]\n"
     ]
    },
    {
     "data": {
      "image/png": "[encoded data removed]",
      "text/plain": [
       "<Figure size 432x288 with 1 Axes>"
      ]
     },
     "metadata": {
      "needs_background": "light"
     },
     "output_type": "display_data"
    }
   ],
   "source": [
    "# COMPLETAR: OTRA LINEA DE CODIGO \n",
    "'''Combinamos las muestras obtenidas en un arreglo de dos filas, donde\n",
    "cada columna corresponde a una tirada'''\n",
    "muestras = np.array([dado1,dado2])\n",
    "print(muestras.shape)\n",
    "print(muestras)\n",
    "\n",
    "'''Obtenemos el máximo de cada tirada. Recordar obtener el máximo\n",
    "en el eje (axis) correspondiente'''\n",
    "maximos = np.max(muestras, axis = 0)\n",
    "\n",
    "plt.hist(maximos, bins = np.arange(0.5,7.5,1), density=True, rwidth = 0.8)\n",
    "plt.show()"
   ]
  },
  {
   "cell_type": "markdown",
   "metadata": {
    "id": "Iu_y4bliU4WK"
   },
   "source": [
    "## 2. Correlación\n",
    "\n",
    "El objetivo de esta sección es que te familiarices con los conceptos de **Covarianza** y **Correlación**. Si bien las fórmulas parecen difíciles, esperemos que veas que nada es tan grave como parece. También que prestes atención a cómo a veces es útil simular datos para aprender o acercarse a algunas técnicas.\n",
    "\n",
    "Tenemos dos variables aleatorias $X$ e $Y$, de las cuales tenemos $n$ muestras de cada una, $x_1,x_2,..., x_n$ e $y_1,y_2,..., y_n$. Sus valores medios son $\\bar{x}$ e $\\bar{y}$, respectivamente. Definimos la Covarianza como\n",
    "\n",
    "$$Cov(X,Y) = \\sum_{i=1}^{n} \\frac{(x_i - \\bar{x})(y_i - \\bar{y})}{n}$$\n",
    "\n",
    "A veces verás que, en lugar de dividir por $n$, se divide por $n - 1$ ó $n - 2$, pero eso no es importante ahora. Según Wikipedia, \"la covarianza es un valor que indica el grado de variación conjunta de dos variables aleatorias respecto a sus medias. Es el dato básico para determinar si existe una dependencia entre ambas variables y además es el dato necesario para estimar otros parámetros básicos, como el coeficiente de correlación lineal o la recta de regresión.\". \n",
    "\n",
    "Si bien la fórmula puede parecer difícil, veamos qué nos dice de nuestros datos simulando algunos casos sencillos.\n",
    "\n",
    "Empezamos generandos muestras al azar de dos variables aleatorias no relacionadas entre sí. "
   ]
  },
  {
   "cell_type": "code",
   "execution_count": 21,
   "metadata": {
    "id": "q66jDC_IU4WO"
   },
   "outputs": [],
   "source": [
    "import matplotlib.pyplot as plt\n",
    "import numpy as np"
   ]
  },
  {
   "cell_type": "code",
   "execution_count": 22,
   "metadata": {
    "id": "dWwL1LZ7U4Wa"
   },
   "outputs": [
    {
     "data": {
      "image/png": "[encoded data removed]",
      "text/plain": [
       "<Figure size 432x288 with 1 Axes>"
      ]
     },
     "metadata": {
      "needs_background": "light"
     },
     "output_type": "display_data"
    }
   ],
   "source": [
    "n = 1000\n",
    "sigma_1 = 2\n",
    "sigma_2 = 20\n",
    "x = np.random.normal(size = n, scale = sigma_1)\n",
    "y = np.random.normal(size = n, scale = sigma_2)\n",
    "\n",
    "# Graficamos\n",
    "plt.scatter(x, y)\n",
    "plt.grid()\n",
    "plt.xlim([-60,60])\n",
    "plt.ylim([-60,60])\n",
    "plt.show()"
   ]
  },
  {
   "cell_type": "markdown",
   "metadata": {
    "id": "w44BW3CCU4Wl"
   },
   "source": [
    "¿Hay alguna relación entre ellos? Por relación nos referimos a \"variación conjunta\". Y por \"variación conjunta\" podemos imaginarnos que si una de las variables aumenta, la otra también lo hace. Y si una variable disminuye su valor, la otra también lo hace. La covarianza intenta cuantificar esa relación."
   ]
  },
  {
   "cell_type": "code",
   "execution_count": 23,
   "metadata": {
    "id": "3wX-H3y-U4Wo"
   },
   "outputs": [
    {
     "name": "stdout",
     "output_type": "stream",
     "text": [
      "-1.1012640965679938\n"
     ]
    }
   ],
   "source": [
    "cov = np.sum((x - x.mean())*(y - y.mean()))/x.size\n",
    "print(cov)"
   ]
  },
  {
   "cell_type": "markdown",
   "metadata": {
    "id": "zzbRb7kmU4W0"
   },
   "source": [
    "La covarianza, sin embargo, tiene un pequeño problema: depende de la escala de nuestros datos. Entonces, para deshacernos de la escala, se puede definir la Correlación, que no es otra cosa que la covarianza dividida la desviación estándar de cada variable aletaria.\n",
    "\n",
    "$$Corr(X,Y) = \\frac{Cov(X,Y)}{\\sigma_X \\sigma_Y}$$"
   ]
  },
  {
   "cell_type": "code",
   "execution_count": 24,
   "metadata": {
    "id": "wW2-EG20U4W2"
   },
   "outputs": [
    {
     "name": "stdout",
     "output_type": "stream",
     "text": [
      "-0.026494315731723166\n"
     ]
    }
   ],
   "source": [
    "corr = cov/(x.std()*y.std())\n",
    "print(corr)"
   ]
  },
  {
   "cell_type": "markdown",
   "metadata": {
    "id": "UHClidVeU4XC"
   },
   "source": [
    "Y con eso nos deshacemos de la escala. Un valor cercano a cero nos indica que no existe una relación (¿lineal?) entre las variables.\n",
    "\n",
    "**Probar** con distintas escalas (modificando `sigma_1` y `sigma_2`) y verán que `cov` tomará valores en un rango muy amplio, mientras que `corr` se mantendrá cercana a cero.\n",
    "\n",
    "### 2.1 Relación lineal\n",
    "\n",
    "Veamos otro ejemplo: sabemos que existe una relación lineal entre $X$ e $Y$, es decir, podemos aproximar $Y =aX+b$, donde $a$ y $b$ son la pendiente y la ordenada al origen."
   ]
  },
  {
   "cell_type": "code",
   "execution_count": 25,
   "metadata": {
    "id": "JV0TUTcCU4XE"
   },
   "outputs": [
    {
     "data": {
      "image/png": "[encoded data removed]",
      "text/plain": [
       "<Figure size 432x288 with 1 Axes>"
      ]
     },
     "metadata": {
      "needs_background": "light"
     },
     "output_type": "display_data"
    }
   ],
   "source": [
    "n = 100\n",
    "x = np.linspace(-1,1,n) + 0.25*np.random.normal(size = n)\n",
    "y = 10*x + 0.25*np.random.normal(size = n)\n",
    "\n",
    "# Graficamos\n",
    "plt.scatter(x, y)\n",
    "plt.grid()\n",
    "plt.show()"
   ]
  },
  {
   "cell_type": "markdown",
   "metadata": {
    "id": "SpN-9JFmU4XM"
   },
   "source": [
    "La covarianza nos da"
   ]
  },
  {
   "cell_type": "code",
   "execution_count": 26,
   "metadata": {
    "id": "LEzzOeFtU4XR"
   },
   "outputs": [
    {
     "name": "stdout",
     "output_type": "stream",
     "text": [
      "4.147717881338674\n"
     ]
    }
   ],
   "source": [
    "cov = np.sum((x - x.mean())*(y - y.mean()))/x.size\n",
    "print(cov)"
   ]
  },
  {
   "cell_type": "code",
   "execution_count": 27,
   "metadata": {
    "id": "ofbVUp7xU4Xa"
   },
   "outputs": [
    {
     "data": {
      "text/plain": [
       "0.9991792673135917"
      ]
     },
     "execution_count": 27,
     "metadata": {},
     "output_type": "execute_result"
    }
   ],
   "source": [
    "corr = cov/(x.std()*y.std())\n",
    "corr"
   ]
  },
  {
   "cell_type": "markdown",
   "metadata": {
    "id": "3O19qjolU4Xi"
   },
   "source": [
    "Ahora, en cambio, el valor es cercano a uno, indicando una relación lineal creciente entre ambas variables.\n",
    "\n",
    "**Probar** cambiando la pendiente de la función lineal (el número que multiplica a `x` en `y = ...`) y mirar qué pasa. ¿Qué pasa si la pendiente es negativa?"
   ]
  },
  {
   "cell_type": "markdown",
   "metadata": {
    "id": "vjgjstKaU4Xm"
   },
   "source": [
    "#### Conclusiones\n",
    "\n",
    "1. La covarianza es una medida de la variación conjunta de dos variables. Pero tiene un problema: depende de la escala.\n",
    "2. Para \"deshacernos\" de la escala, definimos la correlación, que es simplemente la covarianza dividida por el producto de la desviación estándar de cada variable. **Para pensar:** ¿por qué la desviación estándar está asociada a la escala de una variable?\n",
    "3. La correlación es un valor entre -1 y 1. La correlación toma un valor cercano a uno cuando hay una relación lineal creciente entre las variables, cero cuando no hay relación y -1 cuando hay una relación lineal decreciente.\n",
    "4. Esta correlación tiene un nombre particular: **Correlación de Pearson**."
   ]
  },
  {
   "cell_type": "markdown",
   "metadata": {
    "id": "piVs0Av1U4Xp"
   },
   "source": [
    "### 2.2 Covarianza y Correlación con NumPy\n",
    "\n",
    "**Esta sección es opcional**\n",
    "\n",
    "NumPy ya tiene incorporadas funciones que calculan la covarianza y la correlación entre dos variables. La única diferencia es que, en lugar de devolver un único valor, devuelve cuatro valores, que corresponden a la covarianza/correlación entre $X$ con $X$, $X$ con $Y$, $Y$ con $X$, e $Y$ con $Y$. ¿Por qué, en la correlación, algunos valores son exactamente uno (1.)?"
   ]
  },
  {
   "cell_type": "code",
   "execution_count": 28,
   "metadata": {
    "id": "frlmIIkKU4Xr"
   },
   "outputs": [
    {
     "data": {
      "text/plain": [
       "array([[ 0.42040842,  4.18961402],\n",
       "       [ 4.18961402, 41.82055533]])"
      ]
     },
     "execution_count": 28,
     "metadata": {},
     "output_type": "execute_result"
    }
   ],
   "source": [
    "np.cov([x,y])"
   ]
  },
  {
   "cell_type": "code",
   "execution_count": 29,
   "metadata": {
    "id": "AWJOKo6sU4Xz"
   },
   "outputs": [
    {
     "data": {
      "text/plain": [
       "array([[1.        , 0.99917927],\n",
       "       [0.99917927, 1.        ]])"
      ]
     },
     "execution_count": 29,
     "metadata": {},
     "output_type": "execute_result"
    }
   ],
   "source": [
    "np.corrcoef([x,y])"
   ]
  },
  {
   "cell_type": "markdown",
   "metadata": {
    "id": "MyrooOHbU4X8"
   },
   "source": [
    "### 2.3 Relación No-Lineal entre variables\n",
    "\n",
    "**Esta sección es opcional, pero recomendamos leerla**\n",
    "\n",
    "¿Qué ocurre cuando la relación no es lineal entre las variables? Veámoslo con un ejemplo.\n"
   ]
  },
  {
   "cell_type": "code",
   "execution_count": 30,
   "metadata": {
    "id": "iW2lL_d8U4X-"
   },
   "outputs": [
    {
     "data": {
      "image/png": "[encoded data removed]",
      "text/plain": [
       "<Figure size 432x288 with 1 Axes>"
      ]
     },
     "metadata": {
      "needs_background": "light"
     },
     "output_type": "display_data"
    }
   ],
   "source": [
    "n = 1000\n",
    "x = np.linspace(-5,5,n) + 0.25*np.random.normal(size = n)\n",
    "y = x**2 + 0.25*np.random.normal(size = n)\n",
    "\n",
    "# Graficamos\n",
    "plt.scatter(x, y)\n",
    "plt.grid()\n",
    "plt.show()"
   ]
  },
  {
   "cell_type": "markdown",
   "metadata": {
    "id": "x0f8gozSU4YF"
   },
   "source": [
    "La covarianza nos da"
   ]
  },
  {
   "cell_type": "code",
   "execution_count": 31,
   "metadata": {
    "id": "qyOWwrbQU4YH"
   },
   "outputs": [
    {
     "name": "stdout",
     "output_type": "stream",
     "text": [
      "0.005484384846437934\n"
     ]
    }
   ],
   "source": [
    "cov = np.sum((x - x.mean())*(y - y.mean()))/x.size\n",
    "print(cov)"
   ]
  },
  {
   "cell_type": "code",
   "execution_count": 32,
   "metadata": {
    "id": "_90NldnwU4YP"
   },
   "outputs": [
    {
     "data": {
      "text/plain": [
       "0.000252234851911962"
      ]
     },
     "execution_count": 32,
     "metadata": {},
     "output_type": "execute_result"
    }
   ],
   "source": [
    "corr = cov/(x.std()*y.std())\n",
    "corr"
   ]
  },
  {
   "cell_type": "markdown",
   "metadata": {
    "id": "9XiFp1CZU4YX"
   },
   "source": [
    "Notar que la correlación de un valor alrededor de cero, indicando que no hay una correlación entre ambas variables. Pero esto NO indica que no hay una *relación* entre esas variables, solamente nos dice que no es lineal. Por eso es muy importante graficar.\n",
    "\n",
    "**Probar** cambiando la relación matemática entre `x` e `y` y mirar qué pasa.\n",
    "\n",
    "Para tratar con relaciones no lineal entre variables, existen otros tipos de correlaciones. La que vimos se llama **Correlación de Pearson**, que es la más famosa. Pero también existen otras, Spearman y Kendall, que son muy útiles cuando existe una relación no lineal entre variables.\n",
    "\n",
    "### 3. Correlación en Pandas\n",
    "\n",
    "Probablemente ya estés un poco mareado/a con tantos términos, conceptos y líneas de código. Si no entendiste del todo lo anterior, no te preocupes. Vamos a ver cómo lo aplicamos en un conjunto de datos. ¡Verás que es muy sencillo!\n",
    "\n",
    "Para eso, volvemos a usar el Iris Dataset del encuentro anterior."
   ]
  },
  {
   "cell_type": "code",
   "execution_count": 33,
   "metadata": {
    "id": "jwu9X-67U4Ya"
   },
   "outputs": [],
   "source": [
    "import pandas as pd"
   ]
  },
  {
   "cell_type": "code",
   "execution_count": 34,
   "metadata": {
    "id": "QSWYv0_WU4Yk"
   },
   "outputs": [
    {
     "data": {
      "text/html": [
       "<div>\n",
       "<style scoped>\n",
       "    .dataframe tbody tr th:only-of-type {\n",
       "        vertical-align: middle;\n",
       "    }\n",
       "\n",
       "    .dataframe tbody tr th {\n",
       "        vertical-align: top;\n",
       "    }\n",
       "\n",
       "    .dataframe thead th {\n",
       "        text-align: right;\n",
       "    }\n",
       "</style>\n",
       "<table border=\"1\" class=\"dataframe\">\n",
       "  <thead>\n",
       "    <tr style=\"text-align: right;\">\n",
       "      <th></th>\n",
       "      <th>SepalLengthCm</th>\n",
       "      <th>SepalWidthCm</th>\n",
       "      <th>PetalLengthCm</th>\n",
       "      <th>PetalWidthCm</th>\n",
       "      <th>Species</th>\n",
       "    </tr>\n",
       "  </thead>\n",
       "  <tbody>\n",
       "    <tr>\n",
       "      <th>0</th>\n",
       "      <td>5.1</td>\n",
       "      <td>3.5</td>\n",
       "      <td>1.4</td>\n",
       "      <td>0.2</td>\n",
       "      <td>Iris-setosa</td>\n",
       "    </tr>\n",
       "    <tr>\n",
       "      <th>1</th>\n",
       "      <td>4.9</td>\n",
       "      <td>3.0</td>\n",
       "      <td>1.4</td>\n",
       "      <td>0.2</td>\n",
       "      <td>Iris-setosa</td>\n",
       "    </tr>\n",
       "    <tr>\n",
       "      <th>2</th>\n",
       "      <td>4.7</td>\n",
       "      <td>3.2</td>\n",
       "      <td>1.3</td>\n",
       "      <td>0.2</td>\n",
       "      <td>Iris-setosa</td>\n",
       "    </tr>\n",
       "    <tr>\n",
       "      <th>3</th>\n",
       "      <td>4.6</td>\n",
       "      <td>3.1</td>\n",
       "      <td>1.5</td>\n",
       "      <td>0.2</td>\n",
       "      <td>Iris-setosa</td>\n",
       "    </tr>\n",
       "    <tr>\n",
       "      <th>4</th>\n",
       "      <td>5.0</td>\n",
       "      <td>3.6</td>\n",
       "      <td>1.4</td>\n",
       "      <td>0.2</td>\n",
       "      <td>Iris-setosa</td>\n",
       "    </tr>\n",
       "  </tbody>\n",
       "</table>\n",
       "</div>"
      ],
      "text/plain": [
       "   SepalLengthCm  SepalWidthCm  PetalLengthCm  PetalWidthCm      Species\n",
       "0            5.1           3.5            1.4           0.2  Iris-setosa\n",
       "1            4.9           3.0            1.4           0.2  Iris-setosa\n",
       "2            4.7           3.2            1.3           0.2  Iris-setosa\n",
       "3            4.6           3.1            1.5           0.2  Iris-setosa\n",
       "4            5.0           3.6            1.4           0.2  Iris-setosa"
      ]
     },
     "execution_count": 34,
     "metadata": {},
     "output_type": "execute_result"
    }
   ],
   "source": [
    "data = pd.read_csv('ds_04_iris.csv')\n",
    "data.drop(columns = 'Id', inplace = True)\n",
    "data.head()"
   ]
  },
  {
   "cell_type": "markdown",
   "metadata": {
    "id": "_hpR90jUU4Yr"
   },
   "source": [
    "Para obtener las correlaciones entre las distintas variables, simplemente tenemos que hacer:"
   ]
  },
  {
   "cell_type": "code",
   "execution_count": 35,
   "metadata": {
    "id": "j24K4utyU4Yw"
   },
   "outputs": [
    {
     "data": {
      "text/html": [
       "<div>\n",
       "<style scoped>\n",
       "    .dataframe tbody tr th:only-of-type {\n",
       "        vertical-align: middle;\n",
       "    }\n",
       "\n",
       "    .dataframe tbody tr th {\n",
       "        vertical-align: top;\n",
       "    }\n",
       "\n",
       "    .dataframe thead th {\n",
       "        text-align: right;\n",
       "    }\n",
       "</style>\n",
       "<table border=\"1\" class=\"dataframe\">\n",
       "  <thead>\n",
       "    <tr style=\"text-align: right;\">\n",
       "      <th></th>\n",
       "      <th>SepalLengthCm</th>\n",
       "      <th>SepalWidthCm</th>\n",
       "      <th>PetalLengthCm</th>\n",
       "      <th>PetalWidthCm</th>\n",
       "    </tr>\n",
       "  </thead>\n",
       "  <tbody>\n",
       "    <tr>\n",
       "      <th>SepalLengthCm</th>\n",
       "      <td>1.000000</td>\n",
       "      <td>-0.109369</td>\n",
       "      <td>0.871754</td>\n",
       "      <td>0.817954</td>\n",
       "    </tr>\n",
       "    <tr>\n",
       "      <th>SepalWidthCm</th>\n",
       "      <td>-0.109369</td>\n",
       "      <td>1.000000</td>\n",
       "      <td>-0.420516</td>\n",
       "      <td>-0.356544</td>\n",
       "    </tr>\n",
       "    <tr>\n",
       "      <th>PetalLengthCm</th>\n",
       "      <td>0.871754</td>\n",
       "      <td>-0.420516</td>\n",
       "      <td>1.000000</td>\n",
       "      <td>0.962757</td>\n",
       "    </tr>\n",
       "    <tr>\n",
       "      <th>PetalWidthCm</th>\n",
       "      <td>0.817954</td>\n",
       "      <td>-0.356544</td>\n",
       "      <td>0.962757</td>\n",
       "      <td>1.000000</td>\n",
       "    </tr>\n",
       "  </tbody>\n",
       "</table>\n",
       "</div>"
      ],
      "text/plain": [
       "               SepalLengthCm  SepalWidthCm  PetalLengthCm  PetalWidthCm\n",
       "SepalLengthCm       1.000000     -0.109369       0.871754      0.817954\n",
       "SepalWidthCm       -0.109369      1.000000      -0.420516     -0.356544\n",
       "PetalLengthCm       0.871754     -0.420516       1.000000      0.962757\n",
       "PetalWidthCm        0.817954     -0.356544       0.962757      1.000000"
      ]
     },
     "execution_count": 35,
     "metadata": {},
     "output_type": "execute_result"
    }
   ],
   "source": [
    "data.corr()"
   ]
  },
  {
   "cell_type": "markdown",
   "metadata": {
    "id": "1ePNNkIzU4Y3"
   },
   "source": [
    "**Para responder**: ¿Cuáles variables están correlacionadas entre sí?¿Por qué los elementos de la diagonal son exactamente uno (1.0)?\n",
    "\n",
    "Dentro de dos encuentros veremos una forma más eficiente de visualizar esta información, ¡pero ya puedes aplicarla!"
   ]
  }
 ],
 "metadata": {
  "colab": {
   "collapsed_sections": [],
   "name": "DS_Bitácora_05_Probabilidad.ipynb",
   "provenance": []
  },
  "kernelspec": {
   "display_name": "Python 3",
   "language": "python",
   "name": "python3"
  },
  "language_info": {
   "codemirror_mode": {
    "name": "ipython",
    "version": 3
   },
   "file_extension": ".py",
   "mimetype": "text/x-python",
   "name": "python",
   "nbconvert_exporter": "python",
   "pygments_lexer": "ipython3",
   "version": "3.9.1"
  }
 },
 "nbformat": 4,
 "nbformat_minor": 1
}
